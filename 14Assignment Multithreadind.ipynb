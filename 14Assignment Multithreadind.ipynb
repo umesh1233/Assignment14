{
 "cells": [
  {
   "cell_type": "code",
   "execution_count": null,
   "id": "08b2de84-73a5-430a-83f4-a2e0c9b0158b",
   "metadata": {},
   "outputs": [],
   "source": [
    "#Q.1\n",
    "A thread is a unit of execution within a process.\n",
    "Multithreading refers to concurrently executing multiple threads by rapidly switching the control of the CPU between threads.\n",
    "\n",
    "Multithreading is the ability of a program or an operating system to enable more than one user at a time without requiring \n",
    "multiplecopies of the program running on the computer.Multithreading can also handle multiple requests from the same user.\n",
    "\n",
    "The Threading Module\n",
    "The newer threading module included with Python 2.4 provides much more powerful, high-level support for threads than the thread\n",
    "modulediscussed in the previous section. threading. activeCount() − Returns the number of thread objects that are active."
   ]
  },
  {
   "cell_type": "code",
   "execution_count": null,
   "id": "1ff28fef-71b0-49ee-810d-6e3d0687afa7",
   "metadata": {},
   "outputs": [],
   "source": [
    "#Q.2\n",
    "Python threading allows you to have different parts of your program run concurrently and can simplify your design.\n",
    "1.threading.activeCount() − Returns the number of thread objects that are active.\n",
    "2.threading.currentThread() − Returns the number of thread objects in the caller's thread control.\n",
    "3.threading.enumerate() − Returns a list of all thread objects that are currently active."
   ]
  },
  {
   "cell_type": "code",
   "execution_count": null,
   "id": "d22391ce-2fb4-481f-a136-d32d1ea44f17",
   "metadata": {},
   "outputs": [],
   "source": [
    "#Q.3\n",
    "run()  − The run() method is the entry point for a thread.\n",
    "start()  − The start() method starts a thread by calling the run method.\n",
    "join([time])  − The join() waits for threads to terminate.\n",
    "isAlive()  − The isAlive() method checks whether a thread is still executing."
   ]
  },
  {
   "cell_type": "code",
   "execution_count": 4,
   "id": "9a15567c-97ea-4b7e-8cad-2d712a39e248",
   "metadata": {},
   "outputs": [
    {
     "name": "stdout",
     "output_type": "stream",
     "text": [
      "Square: 100\n",
      "Cube: 1000\n",
      "Yes\n"
     ]
    }
   ],
   "source": [
    "#Q.4\n",
    "import threading \n",
    "def print_cube(num):\n",
    "    print(\"Cube: {}\" .format(num * num * num))\n",
    " \n",
    " \n",
    "def print_square(num):\n",
    "    print(\"Square: {}\" .format(num * num))\n",
    " \n",
    " \n",
    "if __name__ ==\"__main__\":\n",
    "    t1 = threading.Thread(target=print_square, args=(10,))\n",
    "    t2 = threading.Thread(target=print_cube, args=(10,))\n",
    "    t1.start()\n",
    "    t2.start()\n",
    "    t1.join()\n",
    "    t2.join()\n",
    "    print('Yes')"
   ]
  },
  {
   "cell_type": "code",
   "execution_count": null,
   "id": "d7909ee5-8b2d-4605-9887-8019d73570b8",
   "metadata": {},
   "outputs": [],
   "source": [
    "#Q.5\n",
    "Advantage of Multithreading*\n",
    "1.Improved throughput. ...\n",
    "2.Simultaneous and fully symmetric use of multiple processors for computation and I/O.\n",
    "3.Superior application responsiveness. ...\n",
    "4.Improved server responsiveness. ...\n",
    "5.Minimized system resource usage. ...\n",
    "6.Program structure simplification. ...\n",
    "7.Better communication.\n",
    "\n",
    "Disadvantage of Multithreading*\n",
    "Multithreaded and multicontexted applications are not easy to write. Only experienced programmers should undertake coding \n",
    "for these types of applications. It is much harder to replicate an error \n",
    "in a multithreaded or multicontexted application than it is to do so in a single-threaded, single-contexted application."
   ]
  },
  {
   "cell_type": "code",
   "execution_count": null,
   "id": "feaa49bc-c241-4e46-8a3f-de6f65aa85b2",
   "metadata": {},
   "outputs": [],
   "source": [
    "#Q.6\n"
   ]
  }
 ],
 "metadata": {
  "kernelspec": {
   "display_name": "Python 3 (ipykernel)",
   "language": "python",
   "name": "python3"
  },
  "language_info": {
   "codemirror_mode": {
    "name": "ipython",
    "version": 3
   },
   "file_extension": ".py",
   "mimetype": "text/x-python",
   "name": "python",
   "nbconvert_exporter": "python",
   "pygments_lexer": "ipython3",
   "version": "3.10.8"
  }
 },
 "nbformat": 4,
 "nbformat_minor": 5
}
